{
  "nbformat": 4,
  "nbformat_minor": 0,
  "metadata": {
    "colab": {
      "private_outputs": true,
      "provenance": [],
      "authorship_tag": "ABX9TyNcoSeDRQ5SdT2R7SctDOHu",
      "include_colab_link": true
    },
    "kernelspec": {
      "name": "python3",
      "display_name": "Python 3"
    },
    "language_info": {
      "name": "python"
    }
  },
  "cells": [
    {
      "cell_type": "markdown",
      "metadata": {
        "id": "view-in-github",
        "colab_type": "text"
      },
      "source": [
        "<a href=\"https://colab.research.google.com/github/christiandatascience/Aprendizaje-por-refuerzo-simple-con-Tensorflow/blob/main/Parte_1.ipynb\" target=\"_parent\"><img src=\"https://colab.research.google.com/assets/colab-badge.svg\" alt=\"Open In Colab\"/></a>"
      ]
    },
    {
      "cell_type": "markdown",
      "source": [
        "# **Aprendizaje por refuerzo simple con Tensorflow**\n",
        "\n",
        "## Parte 1 - Bandido de dos brazos"
      ],
      "metadata": {
        "id": "nyFmmagljJz3"
      }
    },
    {
      "cell_type": "markdown",
      "source": [
        "## Introducción\n",
        "\n",
        "El aprendizaje por refuerzo nos brinda la capacidad no solo de enseñarle a un agente artificial cómo actuar, sino también de permitirle aprender a través de sus propias interacciones con un entorno. Al combinar las representaciones complejas que las redes neuronales profundas pueden aprender con el aprendizaje basado en objetivos de un agente RL, las computadoras han logrado algunas hazañas asombrosas, como vencer a los humanos en más de una docena de juegos de Atari y derrotar al campeón mundial de Go.\n",
        "\n",
        "Sin embargo, aprender a construir estos agentes requiere un pequeño cambio de pensamiento para cualquiera que esté acostumbrado a trabajar en un entorno de aprendizaje supervisado. Se acabó la capacidad de simplemente hacer que el algoritmo emparejara ciertos estímulos con ciertas respuestas. En cambio, los algoritmos de RL deben permitir que el agente aprenda los emparejamientos correctos mediante el uso de observaciones, recompensas y acciones. Dado que ya no existe una acción correcta dada que podamos simplemente decir **verdadera** para que un agente tome en cualquier circunstancia, las cosas se ponen un poco complicadas. De ahora en adelante se trabajará en la creación y capacitación de agentes de aprendizaje por refuerzo. El agente y la tarea comenzarán de manera simple, de modo que los conceptos sean claros, para luego avanzar hacia tareas y entornos más complejos."
      ],
      "metadata": {
        "id": "nzn-KqhZjVJW"
      }
    }
  ]
}